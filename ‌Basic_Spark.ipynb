{
  "nbformat": 4,
  "nbformat_minor": 0,
  "metadata": {
    "colab": {
      "provenance": [],
      "authorship_tag": "ABX9TyOGk36MCqKO2QBTD683+I1v",
      "include_colab_link": true
    },
    "kernelspec": {
      "name": "python3",
      "display_name": "Python 3"
    },
    "language_info": {
      "name": "python"
    }
  },
  "cells": [
    {
      "cell_type": "markdown",
      "metadata": {
        "id": "view-in-github",
        "colab_type": "text"
      },
      "source": [
        "<a href=\"https://colab.research.google.com/github/saharnazyp/Spaceship-Game/blob/main/%E2%80%8CBasic_Spark.ipynb\" target=\"_parent\"><img src=\"https://colab.research.google.com/assets/colab-badge.svg\" alt=\"Open In Colab\"/></a>"
      ]
    },
    {
      "cell_type": "code",
      "execution_count": 2,
      "metadata": {
        "colab": {
          "base_uri": "https://localhost:8080/"
        },
        "id": "VUkjjK4NC7JU",
        "outputId": "4e1e046f-f316-4155-d0ae-69e30dfb26ba"
      },
      "outputs": [
        {
          "output_type": "stream",
          "name": "stdout",
          "text": [
            "Collecting pyspark\n",
            "  Downloading pyspark-3.5.2.tar.gz (317.3 MB)\n",
            "\u001b[2K     \u001b[90m━━━━━━━━━━━━━━━━━━━━━━━━━━━━━━━━━━━━━━━━\u001b[0m \u001b[32m317.3/317.3 MB\u001b[0m \u001b[31m4.0 MB/s\u001b[0m eta \u001b[36m0:00:00\u001b[0m\n",
            "\u001b[?25h  Preparing metadata (setup.py) ... \u001b[?25l\u001b[?25hdone\n",
            "Requirement already satisfied: py4j==0.10.9.7 in /usr/local/lib/python3.10/dist-packages (from pyspark) (0.10.9.7)\n",
            "Building wheels for collected packages: pyspark\n",
            "  Building wheel for pyspark (setup.py) ... \u001b[?25l\u001b[?25hdone\n",
            "  Created wheel for pyspark: filename=pyspark-3.5.2-py2.py3-none-any.whl size=317812365 sha256=a13cd209774cfc521a4b2e530a0958d500a9d57be4229b6bd2b40025bc834644\n",
            "  Stored in directory: /root/.cache/pip/wheels/34/34/bd/03944534c44b677cd5859f248090daa9fb27b3c8f8e5f49574\n",
            "Successfully built pyspark\n",
            "Installing collected packages: pyspark\n",
            "Successfully installed pyspark-3.5.2\n"
          ]
        }
      ],
      "source": [
        "pip install pyspark"
      ]
    },
    {
      "cell_type": "code",
      "source": [
        "from pyspark import SparkContext"
      ],
      "metadata": {
        "id": "7UNDmfyAC-S5"
      },
      "execution_count": 7,
      "outputs": []
    },
    {
      "cell_type": "code",
      "source": [
        "sc = SparkContext(master=\"local[*]\",appName=\"First Spark App\")"
      ],
      "metadata": {
        "id": "q9DLPH4CE8Hk"
      },
      "execution_count": 8,
      "outputs": []
    },
    {
      "cell_type": "code",
      "source": [
        "names=[\"ali\", \"vahid\", \"elham\", \"faird\", \"safieh\", \"fateme\", \"reyhane\", \"reza\", \"saeed\",\n",
        "         \"zahra\", \"masoud\", \"hamidreza\", \"hasan\", \"alireza\", \"aliakbar\", \"somaye\",\n",
        "         \"nahid\", \"mohammadreza\", \"saharnaz\", \"leyla\", \"maryam\", \"ava\"]"
      ],
      "metadata": {
        "id": "c9-o09X1EYNA"
      },
      "execution_count": 11,
      "outputs": []
    },
    {
      "cell_type": "code",
      "source": [
        "names_rdd = sc.parallelize(names)"
      ],
      "metadata": {
        "id": "lg1XZ3TQEvYP"
      },
      "execution_count": 13,
      "outputs": []
    },
    {
      "cell_type": "code",
      "source": [
        "sorted_names_rdd = names_rdd.sortBy(lambda name: name)"
      ],
      "metadata": {
        "id": "kVbjl_XRFVJu"
      },
      "execution_count": 14,
      "outputs": []
    },
    {
      "cell_type": "code",
      "source": [
        "sorted_names = sorted_names_rdd.collect()"
      ],
      "metadata": {
        "id": "jX6gy_OkFVxu"
      },
      "execution_count": 16,
      "outputs": []
    },
    {
      "cell_type": "code",
      "source": [
        "sorted_names"
      ],
      "metadata": {
        "colab": {
          "base_uri": "https://localhost:8080/"
        },
        "id": "yEs1_Z8iFh4s",
        "outputId": "8abfde5b-fdad-471c-e48e-6b12db789e25"
      },
      "execution_count": 20,
      "outputs": [
        {
          "output_type": "execute_result",
          "data": {
            "text/plain": [
              "['ali',\n",
              " 'aliakbar',\n",
              " 'alireza',\n",
              " 'ava',\n",
              " 'elham',\n",
              " 'faird',\n",
              " 'fateme',\n",
              " 'hamidreza',\n",
              " 'hasan',\n",
              " 'leyla',\n",
              " 'maryam',\n",
              " 'masoud',\n",
              " 'mohammadreza',\n",
              " 'nahid',\n",
              " 'reyhane',\n",
              " 'reza',\n",
              " 'saeed',\n",
              " 'safieh',\n",
              " 'saharnaz',\n",
              " 'somaye',\n",
              " 'vahid',\n",
              " 'zahra']"
            ]
          },
          "metadata": {},
          "execution_count": 20
        }
      ]
    },
    {
      "cell_type": "code",
      "source": [
        "length_name_pairs_rdd = names_rdd.map(lambda name: (len(name), name))"
      ],
      "metadata": {
        "id": "VmLcClJUFuSb"
      },
      "execution_count": 21,
      "outputs": []
    },
    {
      "cell_type": "code",
      "source": [
        "grouped_rdd = length_name_pairs_rdd.groupByKey().mapValues(list)"
      ],
      "metadata": {
        "id": "P8qpirV-GSL7"
      },
      "execution_count": 22,
      "outputs": []
    },
    {
      "cell_type": "code",
      "source": [
        "sorted_grouped_rdd = grouped_rdd.sortByKey()"
      ],
      "metadata": {
        "id": "2e5N3TJUGV5D"
      },
      "execution_count": 23,
      "outputs": []
    },
    {
      "cell_type": "code",
      "source": [
        "result = sorted_grouped_rdd.collect()"
      ],
      "metadata": {
        "id": "4thrJVruGa-z"
      },
      "execution_count": 24,
      "outputs": []
    },
    {
      "cell_type": "code",
      "source": [
        "sorted_grouped_rdd.collect()"
      ],
      "metadata": {
        "colab": {
          "base_uri": "https://localhost:8080/"
        },
        "id": "QaM2YiORGoSS",
        "outputId": "6f4ba2c6-aa21-4d40-c061-c5059ad6368c"
      },
      "execution_count": 25,
      "outputs": [
        {
          "output_type": "execute_result",
          "data": {
            "text/plain": [
              "[(3, ['ali', 'ava']),\n",
              " (4, ['reza']),\n",
              " (5, ['vahid', 'elham', 'faird', 'saeed', 'zahra', 'hasan', 'nahid', 'leyla']),\n",
              " (6, ['safieh', 'fateme', 'masoud', 'somaye', 'maryam']),\n",
              " (7, ['reyhane', 'alireza']),\n",
              " (8, ['aliakbar', 'saharnaz']),\n",
              " (9, ['hamidreza']),\n",
              " (12, ['mohammadreza'])]"
            ]
          },
          "metadata": {},
          "execution_count": 25
        }
      ]
    },
    {
      "cell_type": "code",
      "source": [],
      "metadata": {
        "id": "FabgUV8aHeRQ"
      },
      "execution_count": null,
      "outputs": []
    }
  ]
}